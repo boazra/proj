{
 "cells": [
  {
   "cell_type": "code",
   "execution_count": null,
   "metadata": {
    "collapsed": true
   },
   "outputs": [],
   "source": [
    "import glob\n",
    "import matplotlib.pyplot as plt\n",
    "import matplotlib.collections as mc\n",
    "import pandas as pd\n",
    "import numpy as np\n",
    "\n",
    "%matplotlib inline"
   ]
  },
  {
   "cell_type": "markdown",
   "metadata": {},
   "source": [
    "#### Load data"
   ]
  },
  {
   "cell_type": "code",
   "execution_count": null,
   "metadata": {
    "collapsed": true
   },
   "outputs": [],
   "source": [
    "files = glob.glob(\"*.csv\")\n",
    "data = None\n",
    "for f in files:\n",
    "    if data is None:\n",
    "        data = pd.read_csv(f, skipfooter = 2, engine='python')\n",
    "    else:\n",
    "        data = pd.concat([data, pd.read_csv(f, skipfooter = 2, engine='python')])\n",
    "\n",
    "data.columns = ['date', 'price']\n",
    "data = data.drop_duplicates('date')\n",
    "data = data.reset_index(drop=True)\n",
    "data.date = pd.to_datetime(data.date)\n",
    "data = data.sort_values(by=['date'])\n",
    "\n",
    "price_open = data.price.as_matrix()[:-1]\n",
    "price_close = data.price.as_matrix()[1:]"
   ]
  },
  {
   "cell_type": "markdown",
   "metadata": {},
   "source": [
    "#### Utility functions"
   ]
  },
  {
   "cell_type": "code",
   "execution_count": null,
   "metadata": {
    "collapsed": true
   },
   "outputs": [],
   "source": [
    "def evaluate_strategy(price, actions, action_price):\n",
    "    '''Evaluate strategy and return growth\n",
    "    \n",
    "    price: historical price data\n",
    "    actions: decision at each point: -1 = sell, 0 = no action, 1 = buy\n",
    "    action_price: usd price for each action\n",
    "    '''\n",
    "    result = np.ones(len(actions)) # Growth history\n",
    "    btc = 1                        # Current number of btc\n",
    "    usd = 0                        # Current number of usd\n",
    "    last_action = None             # Last non-zero action\n",
    "    \n",
    "    # Loop for every time point\n",
    "    for i, a in enumerate(actions):\n",
    "        if a != 0:\n",
    "            if last_action is None:\n",
    "                # First action\n",
    "                # If it is a sell, skip action\n",
    "                # Otherwise perform first purchase\n",
    "                \n",
    "                if a == -1:\n",
    "                    continue\n",
    "                \n",
    "                btc = 1\n",
    "                usd = 0\n",
    "                last_action = a\n",
    "                continue\n",
    "            \n",
    "            # Do trade\n",
    "            if a == 1:\n",
    "                # Buy\n",
    "                btc = (usd-action_price)/price[i]\n",
    "                usd = 0\n",
    "            else:\n",
    "                # Sell\n",
    "                usd = btc*price[i]-action_price\n",
    "                btc = 0\n",
    "            \n",
    "            last_action = a\n",
    "\n",
    "        result[i] = (usd + btc * price[i]) / price[0]\n",
    "    \n",
    "    return result\n",
    "\n",
    "def moving_sum(X, n):\n",
    "    return np.array([sum(X[i:i+n]) for i in range(X.shape[0]-n+1)])\n",
    "\n",
    "def moving_ratio(price_open, price_close, n):\n",
    "    return np.array([price_open[i]/price_close[i-n] for i in range(n, len(price_open))])\n",
    "            "
   ]
  },
  {
   "cell_type": "markdown",
   "metadata": {},
   "source": [
    "#### Test parameters"
   ]
  },
  {
   "cell_type": "code",
   "execution_count": null,
   "metadata": {},
   "outputs": [],
   "source": [
    "# Period to evaluate\n",
    "start, end = 0, price_close.shape[0]-1\n",
    "# Number of minutes in the past for window function (ratio)\n",
    "dt = 17\n",
    "# Threshold for entering when rising\n",
    "threshold_up = 0.01\n",
    "# Threshold for leaving when falling\n",
    "threshold_down = 0.005\n",
    "# Minimum number of rising minutes to enter\n",
    "peak_width = 0\n",
    "# Minimum number of falling minutes to leave\n",
    "valley_width = 0\n",
    "# Price per action\n",
    "action_price = 1\n",
    "\n",
    "# moving ratio\n",
    "dx = moving_ratio(price_open, price_close, dt)[start:end]\n",
    "\n",
    "# flag up or down trend if:\n",
    "# 1. ratio with earlier price crosses threshold\n",
    "# 2. prices are rising/falling for at least [peak_width]/[valley_width] minutes\n",
    "up = (dx >= 1+threshold_up) & (moving_sum(dx > 1, max(1, peak_width)) >= peak_width)[max(1, peak_width)-1:]\n",
    "down = (dx <= 1-threshold_down) & (moving_sum(dx < 1, max(1, valley_width)) >= valley_width)[ max(1, valley_width)-1:]\n",
    "\n",
    "# Encode actions\n",
    "actions = (up+0-down)\n",
    "\n",
    "# Set repeated actions (consecutive sell/buy actions) to 0\n",
    "_a = actions[0]\n",
    "for i, a in enumerate(actions):\n",
    "    if a != 0:\n",
    "        if a == _a:\n",
    "            actions[i] = 0\n",
    "        _a = a\n",
    "\n",
    "# Save decision points\n",
    "idx_down = np.where(actions==-1)[0]\n",
    "idx_up = np.where(actions==1)[0]"
   ]
  },
  {
   "cell_type": "markdown",
   "metadata": {},
   "source": [
    "Some plots for visual inspcetion"
   ]
  },
  {
   "cell_type": "code",
   "execution_count": null,
   "metadata": {},
   "outputs": [],
   "source": [
    "plt.figure(0, figsize=(15,30))\n",
    "plt.subplot(2,1,1)\n",
    "plt.axhline(1, color='black')\n",
    "\n",
    "# plot decision boundaries\n",
    "plt.axhline(1-threshold_down, color='black', dashes=[2,5])\n",
    "plt.axhline(1+threshold_up, color='black', dashes=[2,5])\n",
    "\n",
    "# plot moving ratio\n",
    "plt.plot(dx)\n",
    "plt.xlabel(\"Minutes\")\n",
    "plt.ylabel(\"Growth\")\n",
    "\n",
    "# plot actions\n",
    "plt.plot(idx_up, dx[idx_up], 'og')\n",
    "plt.plot(idx_down, dx[idx_down], 'or')\n",
    "\n",
    "# plot actual price and decisions\n",
    "plt.subplot(2,1,2)\n",
    "plt.plot(price_close[start:end])\n",
    "plt.plot(idx_up, price_close[start:end][idx_up], 'og')\n",
    "plt.plot(idx_down, price_close[start:end][idx_down], 'or')\n",
    "plt.xlabel(\"Minutes\")\n",
    "plt.ylabel(\"Price\")\n",
    "\n",
    "pass"
   ]
  },
  {
   "cell_type": "markdown",
   "metadata": {},
   "source": [
    "#### Evalueate strategy"
   ]
  },
  {
   "cell_type": "code",
   "execution_count": null,
   "metadata": {},
   "outputs": [],
   "source": [
    "result = evaluate_strategy(price_open[start:end], actions, action_price)\n",
    "plt.figure(1, figsize=(15,15))\n",
    "plt.plot(result)\n",
    "plt.xlabel(\"Minutes\")\n",
    "plt.ylabel(\"Growth\")\n",
    "print(\"Strategy result: %.0f%%\\nMarket result: %.0f%%\" % (result[-1]*100, \n",
    "                                                          price_close[end]/price_close[start]*100))\n",
    "print(\"Actions: %d\" % sum(actions != 0))"
   ]
  },
  {
   "cell_type": "markdown",
   "metadata": {},
   "source": [
    "Test random strategy"
   ]
  },
  {
   "cell_type": "code",
   "execution_count": null,
   "metadata": {},
   "outputs": [],
   "source": [
    "# Generate random actions\n",
    "p_action = 0.1\n",
    "actions = (np.random.uniform(0, 1, (2,actions.shape[0])) < p_action).sum(0)-1\n",
    "\n",
    "# Set repeated actions (consecutive sell/buy actions) to 0\n",
    "_a = actions[0]\n",
    "for i, a in enumerate(actions):\n",
    "    if a != 0:\n",
    "        if a == _a:\n",
    "            actions[i] = 0\n",
    "        _a = a\n",
    "\n",
    "# Save decision points\n",
    "idx_down = np.where(actions==-1)[0]\n",
    "idx_up = np.where(actions==1)[0]\n",
    "\n",
    "result = evaluate_strategy(data.price.values[start:end], actions, action_price)\n",
    "plt.figure(1, figsize=(15,15))\n",
    "plt.plot(result)\n",
    "plt.xlabel(\"Minutes\")\n",
    "plt.ylabel(\"Growth\")\n",
    "print(\"Strategy result: %.0f%%\\nMarket result: %.0f%%\" % (result[-1]*100, \n",
    "                                                          data.price.values[end]/data.price.values[start]*100))\n",
    "print(\"Actions: %d\" % sum(actions != 0))"
   ]
  }
 ],
 "metadata": {
  "kernelspec": {
   "display_name": "Python 3",
   "language": "python",
   "name": "python3"
  },
  "language_info": {
   "codemirror_mode": {
    "name": "ipython",
    "version": 3
   },
   "file_extension": ".py",
   "mimetype": "text/x-python",
   "name": "python",
   "nbconvert_exporter": "python",
   "pygments_lexer": "ipython3",
   "version": "3.5.4"
  }
 },
 "nbformat": 4,
 "nbformat_minor": 2
}
